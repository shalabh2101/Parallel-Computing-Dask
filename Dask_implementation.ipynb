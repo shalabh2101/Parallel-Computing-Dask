{
  "nbformat": 4,
  "nbformat_minor": 0,
  "metadata": {
    "colab": {
      "name": "Dask_implementation.ipynb",
      "provenance": [],
      "collapsed_sections": [],
      "toc_visible": true,
      "machine_shape": "hm"
    },
    "kernelspec": {
      "name": "python3",
      "display_name": "Python 3"
    }
  },
  "cells": [
    {
      "cell_type": "code",
      "metadata": {
        "id": "HLbPZZJdAePy",
        "colab_type": "code",
        "colab": {}
      },
      "source": [
        "!pip -q install \"dask[complete]\""
      ],
      "execution_count": 0,
      "outputs": []
    },
    {
      "cell_type": "code",
      "metadata": {
        "id": "oCfkKBvYBIde",
        "colab_type": "code",
        "colab": {}
      },
      "source": [
        "!pip -q install graphviz \n",
        "!apt-get install graphviz -qq\n",
        "!pip -q install pydot"
      ],
      "execution_count": 0,
      "outputs": []
    },
    {
      "cell_type": "code",
      "metadata": {
        "id": "QSpVNfK1BWV3",
        "colab_type": "code",
        "colab": {}
      },
      "source": [
        "import time\n",
        "import numpy as np\n",
        "import pandas as pd\n",
        "import dask.array as da\n",
        "import graphviz\n",
        "import matplotlib.pyplot as plt\n"
      ],
      "execution_count": 0,
      "outputs": []
    },
    {
      "cell_type": "code",
      "metadata": {
        "id": "dmlZN3lsC9-G",
        "colab_type": "code",
        "colab": {}
      },
      "source": [
        "# Computing using Numpy Library\n",
        "def numpy_calculation(size=(10, 10)):\n",
        "  arr = np.random.random(size=size)\n",
        "  return arr.mean()\n",
        "\n",
        "#Computing using Dask Library\n",
        "#Dividing into chunks when the number of elements are greater than 10000\n",
        "def dask_calculation(size=(10, 10)):\n",
        "  overhead_time_start = time.time()\n",
        "  if size[0] > 10000: chunks = (1000, 1000)\n",
        "  else: chunks = (int(size[0]/10), int(size[1]/10))\n",
        "  data = da.random.random(size=size, chunks=chunks)\n",
        "  overhead_time_end = time.time()\n",
        "  print(\"Dask Overhead Time:\",overhead_time_end-overhead_time_start)\n",
        "  cal_start=time.time()\n",
        "  y = data.mean()\n",
        "  cal_end=time.time()\n",
        "  ans=y.compute();\n",
        "  print(\"Dask Calculation Time:\",overhead_time_end-overhead_time_start)\n",
        "  return ans;\n",
        "\n",
        "\n",
        "\n",
        "\n"
      ],
      "execution_count": 0,
      "outputs": []
    },
    {
      "cell_type": "code",
      "metadata": {
        "id": "mzhZpqV0DBJA",
        "colab_type": "code",
        "colab": {}
      },
      "source": [
        "\n",
        "import time\n",
        "\n",
        "def dask_arr_chk():\n",
        "  sizes = []\n",
        "  times = []\n",
        "  size = 10\n",
        "  for i in range(5):\n",
        "    dim1 = size ** (i+1)\n",
        "    for j in range(5):\n",
        "      dim2 = size ** (j+1)\n",
        "      if dim1*dim2 in sizes: continue\n",
        "      st = time.time()\n",
        "      dask_calculation(size=(dim1, dim2))\n",
        "      en = time.time()\n",
        "      sizes.append(dim1*dim2)\n",
        "      times.append(en-st)\n",
        "  return sizes, times\n",
        "\n",
        "def numpy_arr_chk():\n",
        "  sizes = []\n",
        "  times = []\n",
        "  size = 10\n",
        "  for i in range(5):\n",
        "    dim1 = size ** (i+1)\n",
        "    for j in range(4):\n",
        "      dim2 = size ** (j+1)\n",
        "      if dim1*dim2 in sizes: continue\n",
        "      st = time.time()\n",
        "      numpy_calculation(size=(dim1, dim2))\n",
        "      en = time.time()\n",
        "      sizes.append(dim1*dim2)\n",
        "      times.append(en-st)\n",
        "  return sizes, times"
      ],
      "execution_count": 0,
      "outputs": []
    },
    {
      "cell_type": "code",
      "metadata": {
        "id": "T763RgUKVCCB",
        "colab_type": "code",
        "colab": {}
      },
      "source": [
        "x1, y1 = numpy_arr_chk()"
      ],
      "execution_count": 0,
      "outputs": []
    },
    {
      "cell_type": "code",
      "metadata": {
        "id": "-udXbxwtDFrj",
        "colab_type": "code",
        "colab": {
          "base_uri": "https://localhost:8080/",
          "height": 52
        },
        "outputId": "8ac5c79a-2481-4864-cd43-1bf7aeaac3e7"
      },
      "source": [
        "%%time\n",
        "x2, y2 = dask_arr_chk()"
      ],
      "execution_count": 46,
      "outputs": [
        {
          "output_type": "stream",
          "text": [
            "CPU times: user 3min 4s, sys: 5.46 s, total: 3min 9s\n",
            "Wall time: 51 s\n"
          ],
          "name": "stdout"
        }
      ]
    },
    {
      "cell_type": "code",
      "metadata": {
        "id": "7JPKfR0834C_",
        "colab_type": "code",
        "outputId": "74eccaa9-1764-44c4-83d1-b2d777be0737",
        "colab": {
          "base_uri": "https://localhost:8080/",
          "height": 35
        }
      },
      "source": [
        "x1"
      ],
      "execution_count": 47,
      "outputs": [
        {
          "output_type": "execute_result",
          "data": {
            "text/plain": [
              "[100, 1000, 10000, 100000, 1000000, 10000000, 100000000, 1000000000]"
            ]
          },
          "metadata": {
            "tags": []
          },
          "execution_count": 47
        }
      ]
    },
    {
      "cell_type": "code",
      "metadata": {
        "id": "rUq7fB8ON-00",
        "colab_type": "code",
        "colab": {
          "base_uri": "https://localhost:8080/",
          "height": 155
        },
        "outputId": "22a013cb-514e-41b0-8d5c-7a5f9b181729"
      },
      "source": [
        "y1"
      ],
      "execution_count": 48,
      "outputs": [
        {
          "output_type": "execute_result",
          "data": {
            "text/plain": [
              "[0.00010776519775390625,\n",
              " 0.0001976490020751953,\n",
              " 0.0002510547637939453,\n",
              " 0.0018432140350341797,\n",
              " 0.01255488395690918,\n",
              " 0.10556292533874512,\n",
              " 1.0275638103485107,\n",
              " 10.846405506134033]"
            ]
          },
          "metadata": {
            "tags": []
          },
          "execution_count": 48
        }
      ]
    },
    {
      "cell_type": "code",
      "metadata": {
        "id": "0ie8hskxN7lF",
        "colab_type": "code",
        "colab": {
          "base_uri": "https://localhost:8080/",
          "height": 173
        },
        "outputId": "08b4b327-4d76-4014-e0ca-8f995f3a6b78"
      },
      "source": [
        "x2"
      ],
      "execution_count": 49,
      "outputs": [
        {
          "output_type": "execute_result",
          "data": {
            "text/plain": [
              "[100,\n",
              " 1000,\n",
              " 10000,\n",
              " 100000,\n",
              " 1000000,\n",
              " 10000000,\n",
              " 100000000,\n",
              " 1000000000,\n",
              " 10000000000]"
            ]
          },
          "metadata": {
            "tags": []
          },
          "execution_count": 49
        }
      ]
    },
    {
      "cell_type": "code",
      "metadata": {
        "id": "5hreHd10OAEU",
        "colab_type": "code",
        "colab": {
          "base_uri": "https://localhost:8080/",
          "height": 173
        },
        "outputId": "29c5247c-6ed7-43fe-b032-f10afc3a2377"
      },
      "source": [
        "y2"
      ],
      "execution_count": 50,
      "outputs": [
        {
          "output_type": "execute_result",
          "data": {
            "text/plain": [
              "[0.11947178840637207,\n",
              " 0.11375164985656738,\n",
              " 0.1178436279296875,\n",
              " 0.11760902404785156,\n",
              " 0.12426209449768066,\n",
              " 0.13851571083068848,\n",
              " 0.45336103439331055,\n",
              " 3.9827558994293213,\n",
              " 45.793575048446655]"
            ]
          },
          "metadata": {
            "tags": []
          },
          "execution_count": 50
        }
      ]
    },
    {
      "cell_type": "code",
      "metadata": {
        "id": "KTlurCaoDMhV",
        "colab_type": "code",
        "outputId": "e99c36b9-3558-4ac6-a2ac-82a2b7be0906",
        "colab": {
          "base_uri": "https://localhost:8080/",
          "height": 195
        }
      },
      "source": [
        "fig, axs = plt.subplots(1, 3, figsize=(25, 4))\n",
        "axs[0].plot(x1[:-2], y1[:-2], \"o-\", label=\"Numpy\")\n",
        "axs[0].plot(x2[:-3], y2[:-3], \"o-\", label=\"Dask\")\n",
        "axs[0].set_xlabel(\"Array elements:\")\n",
        "axs[0].set_ylabel(\"Time Taken (sec):\")\n",
        "axs[0].legend()\n",
        "\n",
        "axs[1].plot(x1[:-1], y1[:-1], \"o-\", label=\"Numpy\")\n",
        "axs[1].plot(x2[:-2], y2[:-2], \"o-\", label=\"Dask\")\n",
        "axs[1].set_xlabel(\"Array elements:\")\n",
        "axs[1].set_ylabel(\"Time Taken (sec):\")\n",
        "axs[1].legend()\n",
        "\n",
        "axs[2].plot(x1, y1, \"o-\", label=\"Numpy\")\n",
        "axs[2].plot(x2, y2, \"o-\", label=\"Dask\")\n",
        "axs[2].set_xlabel(\"Array elements:\")\n",
        "axs[2].set_ylabel(\"Time Taken (sec):\")\n",
        "axs[2].legend()\n",
        "\n"
      ],
      "execution_count": 59,
      "outputs": [
        {
          "output_type": "execute_result",
          "data": {
            "text/plain": [
              "<matplotlib.legend.Legend at 0x7fc923c20cf8>"
            ]
          },
          "metadata": {
            "tags": []
          },
          "execution_count": 59
        },
        {
          "output_type": "display_data",
          "data": {
            "image/png": "[encoded data removed]",
            "text/plain": [
              "<Figure size 1800x288 with 3 Axes>"
            ]
          },
          "metadata": {
            "tags": [],
            "needs_background": "light"
          }
        }
      ]
    },
    {
      "cell_type": "code",
      "metadata": {
        "id": "fgEI84dDr4NB",
        "colab_type": "code",
        "colab": {}
      },
      "source": [
        "import dask.delayed as delay\n",
        "\n",
        "@delay\n",
        "def sq(x,y):\n",
        "  print(\"sq method \",y)\n",
        "  return x**2\n",
        "\n",
        "@delay\n",
        "def add(x, y, z):\n",
        "  print(\"add method \",int(z))\n",
        "  return x+y\n",
        "\n",
        "@delay\n",
        "def sum(arr):\n",
        "  print(\"sum method complete\")\n",
        "  sum = 0\n",
        "  for i in range(len(arr)): sum+=arr[i]\n",
        "  return sum"
      ],
      "execution_count": 0,
      "outputs": []
    },
    {
      "cell_type": "code",
      "metadata": {
        "id": "GJRDKHclsoxf",
        "colab_type": "code",
        "outputId": "e2378561-bc20-4c89-f524-3f78a2f4b91c",
        "colab": {
          "base_uri": "https://localhost:8080/",
          "height": 35
        }
      },
      "source": [
        "#Adding the tasks to visualize the graph and the computation flow.\n",
        "\n",
        "lst = list(np.arange(1, 11))\n",
        "\n",
        "for i in range(3):\n",
        "  temp = []\n",
        "  if i == 0:\n",
        "    for j in range(0, len(lst)):\n",
        "      temp.append(sq(lst[j],j+1))\n",
        "  elif i == 1:\n",
        "    for j in range(0, len(lst)-1, 2):\n",
        "      temp.append(add(lst[j], lst[j+1],j/2))\n",
        "  else:\n",
        "    temp.append(sum(lst))\n",
        "  lst = temp\n",
        "  \n",
        "# New functions will be computed on last results\n",
        "\n",
        "\n",
        "  \n",
        "lst"
      ],
      "execution_count": 0,
      "outputs": [
        {
          "output_type": "execute_result",
          "data": {
            "text/plain": [
              "[Delayed('sum-cc23e13e-8666-4290-8a17-fedbcdbec236')]"
            ]
          },
          "metadata": {
            "tags": []
          },
          "execution_count": 154
        }
      ]
    },
    {
      "cell_type": "code",
      "metadata": {
        "id": "n42mMN-isqK3",
        "colab_type": "code",
        "outputId": "3f88ecb8-f67c-4b23-ee76-2cf3dc672be0",
        "colab": {
          "base_uri": "https://localhost:8080/",
          "height": 430
        }
      },
      "source": [
        "lst[0].visualize(size=\"7,10!\")\n"
      ],
      "execution_count": 0,
      "outputs": [
        {
          "output_type": "execute_result",
          "data": {
            "image/png": "[encoded data removed]",
            "text/plain": [
              "<IPython.core.display.Image object>"
            ]
          },
          "metadata": {
            "tags": []
          },
          "execution_count": 155
        }
      ]
    },
    {
      "cell_type": "code",
      "metadata": {
        "id": "z6FpqNm3swnk",
        "colab_type": "code",
        "outputId": "be721aa8-750e-4676-adc4-a75b23fde2dd",
        "colab": {
          "base_uri": "https://localhost:8080/",
          "height": 311
        }
      },
      "source": [
        "lst[0].compute()"
      ],
      "execution_count": 0,
      "outputs": [
        {
          "output_type": "stream",
          "text": [
            "sq method  9\n",
            "sq method  10\n",
            "sq method  7\n",
            "add method  4\n",
            "sq method  8\n",
            "sq method  3\n",
            "add method  3\n",
            "sq method  4\n",
            "sq method  2\n",
            "add method  1\n",
            "sq method  1\n",
            "sq method  5\n",
            "add method  0\n",
            "sq method  6\n",
            "add method  2\n",
            "sum method complete\n"
          ],
          "name": "stdout"
        },
        {
          "output_type": "execute_result",
          "data": {
            "text/plain": [
              "385"
            ]
          },
          "metadata": {
            "tags": []
          },
          "execution_count": 156
        }
      ]
    },
    {
      "cell_type": "code",
      "metadata": {
        "id": "qr8q26Oxz0Fh",
        "colab_type": "code",
        "colab": {}
      },
      "source": [
        ""
      ],
      "execution_count": 0,
      "outputs": []
    }
  ]
}